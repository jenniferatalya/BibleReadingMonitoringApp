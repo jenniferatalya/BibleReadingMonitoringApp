{
 "cells": [
  {
   "cell_type": "code",
   "execution_count": 2,
   "metadata": {},
   "outputs": [],
   "source": [
    "import pandas as pd\n",
    "from collections import Counter\n",
    "from jaro import jaro_winkler_metric"
   ]
  },
  {
   "cell_type": "code",
   "execution_count": 3,
   "metadata": {},
   "outputs": [],
   "source": [
    "kitab = pd.read_csv(\"assets/biblebooknames.csv\")\n",
    "kitab = kitab[\"Kitab\"].to_list()"
   ]
  },
  {
   "cell_type": "code",
   "execution_count": 4,
   "metadata": {},
   "outputs": [
    {
     "name": "stdout",
     "output_type": "stream",
     "text": [
      "2 korintus has the highest score: 0.8962962962962964\n"
     ]
    }
   ],
   "source": [
    "# Handle Typo Kitab\n",
    "input = \"2 koruntus\"\n",
    "max_score = 0\n",
    "current_kitab = \"\"\n",
    "\n",
    "for kata in kitab:\n",
    "    similarity_score = jaro_winkler_metric(input, kata)\n",
    "    if similarity_score > max_score:\n",
    "        max_score = similarity_score\n",
    "        current_kitab = kata\n",
    "    else:\n",
    "        continue\n",
    "\n",
    "print(current_kitab, \"has the highest score:\", max_score)"
   ]
  },
  {
   "cell_type": "code",
   "execution_count": 5,
   "metadata": {},
   "outputs": [],
   "source": [
    "stopwords = pd.read_csv(\"assets/stopwords.csv\")\n",
    "stopwords = stopwords[\"Stop Words\"].to_list()"
   ]
  },
  {
   "cell_type": "code",
   "execution_count": 6,
   "metadata": {},
   "outputs": [
    {
     "name": "stdout",
     "output_type": "stream",
     "text": [
      " has the highest score: 0\n"
     ]
    }
   ],
   "source": [
    "# Handle Chat Pelaporan\n",
    "input = \"kejafoan 1-2 selesai\"\n",
    "current_score = 0\n",
    "current_word = \"\"\n",
    "\n",
    "for kata in stopwords:\n",
    "    threshold = 0.8\n",
    "    similarity_score = jaro_winkler_metric(input, kata)\n",
    "    if similarity_score > threshold and similarity_score > current_score:\n",
    "        current_score = similarity_score\n",
    "        current_word = kata\n",
    "    else:\n",
    "        continue\n",
    "\n",
    "print(current_word, \"has the highest score:\", current_score)"
   ]
  }
 ],
 "metadata": {
  "kernelspec": {
   "display_name": "Python 3.12.0 ('personal')",
   "language": "python",
   "name": "python3"
  },
  "language_info": {
   "codemirror_mode": {
    "name": "ipython",
    "version": 3
   },
   "file_extension": ".py",
   "mimetype": "text/x-python",
   "name": "python",
   "nbconvert_exporter": "python",
   "pygments_lexer": "ipython3",
   "version": "3.9.18"
  },
  "orig_nbformat": 4,
  "vscode": {
   "interpreter": {
    "hash": "8df4442bcb384d48c60672abf90b068f678412bdb4bc9d9f5ee6bde2b256350f"
   }
  }
 },
 "nbformat": 4,
 "nbformat_minor": 2
}

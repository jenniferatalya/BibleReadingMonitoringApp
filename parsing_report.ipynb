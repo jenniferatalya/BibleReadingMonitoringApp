{
 "cells": [
  {
   "cell_type": "markdown",
   "metadata": {},
   "source": [
    "Library"
   ]
  },
  {
   "cell_type": "code",
   "execution_count": 1,
   "metadata": {},
   "outputs": [],
   "source": [
    "import pandas as pd"
   ]
  },
  {
   "cell_type": "markdown",
   "metadata": {},
   "source": [
    "Data Cleaning and Preprocessing"
   ]
  },
  {
   "cell_type": "code",
   "execution_count": 30,
   "metadata": {},
   "outputs": [],
   "source": [
    "# take only report chat\n",
    "df = pd.read_csv(\"assets/classifiedchat_context.csv\")\n",
    "cat_report = df[df['Category'] == 'report']\n",
    "\n",
    "# lowercase all messages\n",
    "report = cat_report['Message'].str.lower()\n",
    "\n",
    "# remove unwanted characters\n",
    "report = report.str.replace('_', '').str.replace('`', '').str.replace('.', '').str.replace(',', '').str.lstrip().str.rstrip()\n",
    "\n",
    "# remove all emojis\n",
    "emojis = pd.read_csv('assets/emojis.csv')\n",
    "emojis_list = emojis['emo'].tolist()\n",
    "\n",
    "for emoji in emojis_list:\n",
    "    report = report.str.replace(emoji, '')\n",
    "\n",
    "#remove unwanted words\n",
    "word_list = ['selesai', 'done']\n",
    "for word in word_list:\n",
    "    report = report.str.replace(word, '')\n",
    "\n",
    "# save to csv file\n",
    "report.to_csv('report.csv', index=False)"
   ]
  }
 ],
 "metadata": {
  "kernelspec": {
   "display_name": "capstone",
   "language": "python",
   "name": "python3"
  },
  "language_info": {
   "codemirror_mode": {
    "name": "ipython",
    "version": 3
   },
   "file_extension": ".py",
   "mimetype": "text/x-python",
   "name": "python",
   "nbconvert_exporter": "python",
   "pygments_lexer": "ipython3",
   "version": "3.9.18"
  }
 },
 "nbformat": 4,
 "nbformat_minor": 2
}

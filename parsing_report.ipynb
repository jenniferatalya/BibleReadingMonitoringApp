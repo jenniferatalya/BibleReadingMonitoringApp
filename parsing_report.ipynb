{
 "cells": [
  {
   "cell_type": "markdown",
   "metadata": {},
   "source": [
    "Library"
   ]
  },
  {
   "cell_type": "code",
   "execution_count": 39,
   "metadata": {},
   "outputs": [],
   "source": [
    "import pandas as pd\n",
    "import re"
   ]
  },
  {
   "cell_type": "markdown",
   "metadata": {},
   "source": [
    "Data Cleaning and Preprocessing"
   ]
  },
  {
   "cell_type": "code",
   "execution_count": 94,
   "metadata": {},
   "outputs": [],
   "source": [
    "# take only report chat\n",
    "df = pd.read_csv(\"assets/classifiedchat_context.csv\")\n",
    "cat_report = df[df['Category'] == 'report']\n",
    "\n",
    "# lowercase all messages\n",
    "report = cat_report['Message'].str.lower()\n",
    "\n",
    "# remove unwanted characters\n",
    "report = report.str.replace('_', '').str.replace('`', '').str.replace('.', '').str.replace(',', '').str.replace('*', '').str.lstrip().str.rstrip()\n",
    "\n",
    "# remove all emojis\n",
    "emojis = pd.read_csv('assets/emojis.csv')\n",
    "emojis_list = emojis['emo'].tolist()\n",
    "\n",
    "for emoji in emojis_list:\n",
    "    report = report.str.replace(emoji, '')\n",
    "\n",
    "#remove unwanted words\n",
    "word_list = ['selesai', 'done']\n",
    "for word in word_list:\n",
    "    report = report.str.replace(word, '')\n",
    "\n",
    "\n",
    "for i, message in enumerate(report):\n",
    "    modified_text = re.sub(r'(?<=\\D)(\\d+)', r' \\1', message)\n",
    "    modified_text = re.sub(r'(?<=\\d)([a-zA-Z])', r' \\1', modified_text)\n",
    "    report[i:i+1] = modified_text\n",
    "\n",
    "# save to csv file\n",
    "report.to_csv('report.csv', index=False)"
   ]
  },
  {
   "cell_type": "code",
   "execution_count": 96,
   "metadata": {},
   "outputs": [],
   "source": [
    "book_list = pd.read_csv('assets/biblebooknames.csv')\n",
    "book_list = book_list['Kitab'].tolist()\n",
    "\n",
    "# Construct a regex pattern to match any of the names in the list along with numbers and '-'\n",
    "pattern = r'(?:\\b(?:' + '|'.join(book_list) + r')\\b(?:\\s*\\d*-*\\d*\\s*)*)'\n",
    "\n",
    "# Messages\n",
    "message_list = report\n",
    "processed_message = list()\n",
    "for i in range(len(message_list)):\n",
    "    text = message_list[i:i+1].values[0]\n",
    "    # Find all matches for the pattern in the text\n",
    "    matches = re.findall(pattern, text)\n",
    "\n",
    "    # Construct the final output by joining the matches\n",
    "    output = ' '.join(matches)\n",
    "    processed_message.append(output)\n",
    "\n",
    "dict_msg = {'processed': processed_message}\n",
    "pd.DataFrame(dict_msg).to_csv('cleaned_messages.csv', index=False)\n",
    "\n",
    "# Print the final output\n",
    "# print(\"Output:\", output)"
   ]
  },
  {
   "cell_type": "code",
   "execution_count": null,
   "metadata": {},
   "outputs": [],
   "source": []
  }
 ],
 "metadata": {
  "kernelspec": {
   "display_name": "capstone",
   "language": "python",
   "name": "python3"
  },
  "language_info": {
   "codemirror_mode": {
    "name": "ipython",
    "version": 3
   },
   "file_extension": ".py",
   "mimetype": "text/x-python",
   "name": "python",
   "nbconvert_exporter": "python",
   "pygments_lexer": "ipython3",
   "version": "3.9.18"
  }
 },
 "nbformat": 4,
 "nbformat_minor": 2
}

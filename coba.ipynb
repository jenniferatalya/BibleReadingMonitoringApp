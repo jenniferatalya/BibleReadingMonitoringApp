{
 "cells": [
  {
   "cell_type": "code",
   "execution_count": 1,
   "metadata": {},
   "outputs": [
    {
     "name": "stdout",
     "output_type": "stream",
     "text": [
      "yoh 7-8\n"
     ]
    }
   ],
   "source": [
    "import pandas as pd\n",
    "import re\n",
    "\n",
    "# Baca daftar buku dari file CSV\n",
    "book_list = pd.read_csv('assets/book_names.csv')['Kitab'].tolist()\n",
    "\n",
    "# Buat pola regex untuk mencocokkan nama buku, nomor, dan tanda hubung\n",
    "pattern = r'\\b(?:' + '|'.join(book_list) + r')\\b\\s*\\d*(?:-\\d*)?'\n",
    "\n",
    "# Fungsi untuk mengolah teks\n",
    "def process_text(text):\n",
    "    # Temukan semua kecocokan dengan pola regex\n",
    "    matches = re.findall(pattern, text)\n",
    "\n",
    "    # Gabungkan kecocokan menjadi satu string\n",
    "    processed_text = ' '.join(matches)\n",
    "\n",
    "    return processed_text\n",
    "\n",
    "# Contoh penggunaan\n",
    "text = \"yoh 7-8slse\"\n",
    "processed_text = process_text(text)\n",
    "print(processed_text)  # Output yang diharapkan: \"yoh 7-8\"\n"
   ]
  },
  {
   "cell_type": "code",
   "execution_count": null,
   "metadata": {},
   "outputs": [],
   "source": []
  }
 ],
 "metadata": {
  "kernelspec": {
   "display_name": "capstone",
   "language": "python",
   "name": "python3"
  },
  "language_info": {
   "codemirror_mode": {
    "name": "ipython",
    "version": 3
   },
   "file_extension": ".py",
   "mimetype": "text/x-python",
   "name": "python",
   "nbconvert_exporter": "python",
   "pygments_lexer": "ipython3",
   "version": "3.9.18"
  }
 },
 "nbformat": 4,
 "nbformat_minor": 2
}

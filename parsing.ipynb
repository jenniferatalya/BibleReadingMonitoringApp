{
 "cells": [
  {
   "cell_type": "code",
   "execution_count": 1,
   "metadata": {},
   "outputs": [],
   "source": [
    "import re\n",
    "import csv\n",
    "import pandas as pd\n",
    "from unidecode import unidecode\n",
    "from jaro import jaro_winkler_metric\n",
    "from nltk.tokenize import word_tokenize\n",
    "import warnings\n",
    "warnings.filterwarnings(\"ignore\")"
   ]
  },
  {
   "cell_type": "markdown",
   "metadata": {},
   "source": [
    "Data Cleaning"
   ]
  },
  {
   "cell_type": "code",
   "execution_count": 2,
   "metadata": {},
   "outputs": [],
   "source": [
    "def remove_colon_number(text):\n",
    "    pattern = r\"\\s*:\\s*\\d+\"\n",
    "    return re.sub(pattern, \"\", text)"
   ]
  },
  {
   "cell_type": "code",
   "execution_count": 3,
   "metadata": {},
   "outputs": [],
   "source": [
    "def remove_diacritics(text):\n",
    "    cleaned_text = unidecode(' '.join(text.split()))\n",
    "    cleaned_text = re.sub(r'[^a-zA-Z0-9\\s-]', '', cleaned_text)\n",
    "    return cleaned_text"
   ]
  },
  {
   "cell_type": "code",
   "execution_count": 4,
   "metadata": {},
   "outputs": [],
   "source": [
    "def add_space_between_number_and_alphabet(text):\n",
    "    pattern = r'(\\d)([a-zA-Z])|([a-zA-Z])(\\d)'\n",
    "    result = re.sub(pattern, r'\\1\\3 \\2\\4', text)\n",
    "    return result"
   ]
  },
  {
   "cell_type": "code",
   "execution_count": 5,
   "metadata": {},
   "outputs": [],
   "source": [
    "def fix_numbers(text):\n",
    "    text = text.strip()\n",
    "    pattern = r'\\b0+(\\d+)\\b'\n",
    "    result = re.sub(pattern, lambda x: x.group(1), text)\n",
    "    return result"
   ]
  },
  {
   "cell_type": "markdown",
   "metadata": {},
   "source": [
    "Fix Typo"
   ]
  },
  {
   "cell_type": "code",
   "execution_count": 6,
   "metadata": {},
   "outputs": [],
   "source": [
    "def jaro_function(bookname_input, booknames):\n",
    "    max_score = 0.75\n",
    "    current_bookname = bookname_input\n",
    "\n",
    "    for bookname in booknames:\n",
    "        similarity_score = jaro_winkler_metric(bookname_input, bookname)\n",
    "        if similarity_score > max_score:\n",
    "            max_score = similarity_score\n",
    "            current_bookname = bookname\n",
    "\n",
    "    return current_bookname\n",
    "\n",
    "def fix_typo(text, app_dictionary):\n",
    "    text = text.lower()\n",
    "    text = remove_colon_number(text)\n",
    "    text = remove_diacritics(text)\n",
    "    text = add_space_between_number_and_alphabet(text)\n",
    "    text = fix_numbers(text)\n",
    "    text_list = text.split(\" \")\n",
    "    result = list()\n",
    "\n",
    "    for word in text_list:\n",
    "        current = jaro_function(word, app_dictionary)\n",
    "        if current != word:\n",
    "            pass\n",
    "        else:\n",
    "            if current in app_dictionary:\n",
    "                pass\n",
    "            else:\n",
    "                for word2 in app_dictionary:\n",
    "                    if word2 in word:\n",
    "                        current = word2\n",
    "                        break\n",
    "                    else:\n",
    "                        continue\n",
    "        result.append(current)\n",
    "    \n",
    "    return ' '.join(result)"
   ]
  },
  {
   "cell_type": "code",
   "execution_count": 7,
   "metadata": {},
   "outputs": [],
   "source": [
    "df = pd.read_csv(\"assets/classifiedchat_context.csv\")\n",
    "df = df[df['Category'] == 'report']\n",
    "\n",
    "my_dictionary = pd.read_csv(\"assets/app_dictionary.csv\")['Kamus'].tolist()\n",
    "df['Preprocessing'] = df['Message'].apply(lambda x: fix_typo(x, my_dictionary))"
   ]
  },
  {
   "cell_type": "code",
   "execution_count": 8,
   "metadata": {},
   "outputs": [],
   "source": [
    "df['Preprocessing'].to_csv('phase/preprocessing1.csv', index=False)"
   ]
  },
  {
   "cell_type": "markdown",
   "metadata": {},
   "source": [
    "Another Cleaning"
   ]
  },
  {
   "cell_type": "code",
   "execution_count": 10,
   "metadata": {},
   "outputs": [],
   "source": [
    "cases_df = pd.read_csv('assets/booknames.csv')\n",
    "cases = cases_df['Kitab'].tolist()\n",
    "\n",
    "def preprocessing_text(report, bible_names):\n",
    "    text = report.lower()\n",
    "    text = re.sub(r'\\s*-\\s*', '-', text)\n",
    "\n",
    "    tokens = word_tokenize(text)\n",
    "\n",
    "    pattern = r'\\b(?:' + '|'.join(bible_names) + r')(?:\\s+\\d+(?:-\\d+)?)?(?:\\s+(?:sam\\s+\\d+)?(?:pet\\s+\\d+)?(?:-\\d+)?)?(?:-\\d+)?'\n",
    "\n",
    "    matches = re.findall(pattern, text)\n",
    "    result = ' '.join(matches)\n",
    "\n",
    "    return result\n",
    "\n",
    "df['Preprocessing2'] = df['Preprocessing'].apply(lambda x: preprocessing_text(x, cases))"
   ]
  },
  {
   "cell_type": "code",
   "execution_count": 11,
   "metadata": {},
   "outputs": [],
   "source": [
    "df['Preprocessing2'].to_csv('phase/preprocessing2.csv', index=False)"
   ]
  },
  {
   "cell_type": "markdown",
   "metadata": {},
   "source": [
    "Cleaning for Edge Cases"
   ]
  },
  {
   "cell_type": "code",
   "execution_count": 12,
   "metadata": {},
   "outputs": [],
   "source": [
    "def replace_sam(text):\n",
    "    return re.sub(r'(\\d+)\\s*sam\\s*|sam\\s*(\\d+)', r'\\1sam ', text)\n",
    "\n",
    "def replace_pet(text):\n",
    "    return re.sub(r'(\\d+)\\s*pet\\s*|pet\\s*(\\d+)', r'\\1pet ', text)\n",
    "\n",
    "df['Preprocessing3'] = df['Preprocessing2'].apply(replace_sam).apply(replace_pet)\n",
    "df['Preprocessing3'].to_csv('phase/preprocessing3.csv', index=False)\n"
   ]
  },
  {
   "cell_type": "markdown",
   "metadata": {},
   "source": [
    "Parsing"
   ]
  },
  {
   "cell_type": "code",
   "execution_count": 14,
   "metadata": {},
   "outputs": [],
   "source": [
    "singkatan_df = pd.read_csv('assets/singkatan.csv')\n",
    "kitab_df = pd.read_csv('assets/booknames_nospace.csv')\n",
    "singkatan_dict = dict(zip(singkatan_df['Singkatan'], kitab_df['Kitab']))\n",
    "\n",
    "def ganti_singkatan(text):\n",
    "    if isinstance(text, str):\n",
    "        words = text.split()\n",
    "        i = 0\n",
    "        while i < len(words):\n",
    "            word = words[i]\n",
    "            if '-' in word:\n",
    "                parts = word.split('-')\n",
    "                updated_parts = []\n",
    "                for part in parts:\n",
    "                    if '-' in part:\n",
    "                        book_parts = part.split('-')\n",
    "                        updated_book_parts = []\n",
    "                        for bp in book_parts:\n",
    "                            if bp.lower() in singkatan_dict:\n",
    "                                updated_book_parts.append(singkatan_dict[bp.lower()])\n",
    "                            else:\n",
    "                                updated_book_parts.append(bp)\n",
    "                        updated_parts.append('-'.join(updated_book_parts))\n",
    "                    elif part.lower() in singkatan_dict:\n",
    "                        updated_parts.append(singkatan_dict[part.lower()])\n",
    "                    else:\n",
    "                        updated_parts.append(part)\n",
    "                words[i] = '-'.join(updated_parts)\n",
    "            elif word.lower() in singkatan_dict:\n",
    "                words[i] = singkatan_dict[word.lower()]\n",
    "            elif i < len(words) - 1 and (word + ' ' + words[i+1]).lower() in singkatan_dict:\n",
    "                words[i] = singkatan_dict[(word + ' ' + words[i+1]).lower()]\n",
    "                del words[i+1]\n",
    "            elif re.match(r'.*\\d', word):\n",
    "                break\n",
    "            elif i > 0 and words[i-1].lower() in singkatan_dict:\n",
    "                words[i-1] = singkatan_dict[words[i-1].lower()]\n",
    "            i += 1\n",
    "        return ' '.join(words)\n",
    "    else:\n",
    "        return text\n",
    "    \n",
    "processed_2 = list()\n",
    "\n",
    "for text in df['Preprocessing3']:\n",
    "    new_value = ganti_singkatan(text)\n",
    "    processed_2.append(new_value)\n",
    "\n",
    "df['Preprocessing4'] = processed_2\n"
   ]
  },
  {
   "cell_type": "code",
   "execution_count": 15,
   "metadata": {},
   "outputs": [],
   "source": [
    "df['Preprocessing4'].to_csv('phase/preprocessing4.csv', index=False)"
   ]
  },
  {
   "cell_type": "code",
   "execution_count": 16,
   "metadata": {},
   "outputs": [],
   "source": [
    "def expand_chapter_range(input_str):\n",
    "    parts = str(input_str).split()\n",
    "    if len(parts) > 2:\n",
    "        book = parts[0] + \" \" + parts[1]\n",
    "        chapters = parts[2].split('-')\n",
    "    elif len(parts) < 2:\n",
    "        return input_str\n",
    "    else:\n",
    "        book = parts[0]\n",
    "        chapters = parts[1].split('-')\n",
    "\n",
    "    if len(chapters) == 1:\n",
    "        return input_str\n",
    "\n",
    "    start_chapter = chapters[0]\n",
    "    end_chapter = chapters[1]\n",
    "    output = f\"{book} {start_chapter} - {book} {end_chapter}\"\n",
    "    return output\n",
    "\n",
    "processed3 = list()\n",
    "for i in range(len(df)):\n",
    "    new_value = expand_chapter_range(df['Preprocessing4'][i:i+1].values[0])\n",
    "    new_value = re.sub(r'(\\d+)-(\\w+)', r'\\1 - \\2', new_value)\n",
    "    processed3.append(new_value)\n",
    "    \n",
    "df['Processed 5'] = processed3"
   ]
  },
  {
   "cell_type": "code",
   "execution_count": 17,
   "metadata": {},
   "outputs": [],
   "source": [
    "df['Processed 5'].to_csv('phase/preprocessing5.csv', index=False)"
   ]
  },
  {
   "cell_type": "markdown",
   "metadata": {},
   "source": [
    "Parsing"
   ]
  },
  {
   "cell_type": "code",
   "execution_count": 18,
   "metadata": {},
   "outputs": [],
   "source": [
    "def read_events(file_name):\n",
    "    events = []\n",
    "    with open(file_name, newline='') as csvfile:\n",
    "        reader = csv.reader(csvfile)\n",
    "        for row in reader:\n",
    "            events.append(row[0].lower()) \n",
    "    return events\n",
    "\n",
    "def parse_messages(df, events, booknames):\n",
    "    parsed_messages = []\n",
    "\n",
    "    for line in df['Processed 5']:\n",
    "        if len(line.split()) == 1:\n",
    "            if all(book in booknames for book in line.split('-')):\n",
    "                parsed_line = ''\n",
    "                parsed_books = line.split('-')\n",
    "                for book in parsed_books:\n",
    "                    for chapter in events:\n",
    "                        if book in chapter:\n",
    "                            parsed_line += f\"{chapter}, \"\n",
    "                parsed_line = parsed_line[:-2] \n",
    "                parsed_messages.append(parsed_line)\n",
    "            else:\n",
    "                parsed_line = ''\n",
    "                for chapter in events:\n",
    "                    if line in chapter:\n",
    "                        parsed_line += f\"{chapter}, \"\n",
    "                parsed_line = parsed_line[:-2] \n",
    "                parsed_messages.append(parsed_line)\n",
    "            \n",
    "        else:\n",
    "            matches = re.findall(r'(\\w+\\s\\d+)(?:\\s*-\\s*(\\w+\\s\\d+))?', line)\n",
    "            parsed_line = ''\n",
    "            for match in matches:\n",
    "                start_event, end_event = match[0], match[1]\n",
    "\n",
    "                start_index = events.index(start_event.lower()) if start_event.lower() in events else None\n",
    "                end_index = events.index(end_event.lower()) if end_event and end_event.lower() in events else start_index\n",
    "                if start_index is not None and end_index is not None:\n",
    "                    for i in range(start_index, end_index + 1):\n",
    "                        parsed_line += f\"{events[i]}, \"\n",
    "            parsed_line = parsed_line[:-2]\n",
    "            parsed_messages.append(parsed_line)\n",
    "    \n",
    "    df['Parsed'] = parsed_messages\n",
    "\n",
    "    return df\n",
    "\n",
    "def save_parsed_messages(parsed_messages, output_file):\n",
    "    with open(output_file, 'w') as file:\n",
    "        for parsed_line in parsed_messages:\n",
    "            file.write(parsed_line)\n",
    "\n",
    "file_name = 'assets/biblechapters_nospace.csv'\n",
    "\n",
    "booknames_nospace = pd.read_csv('assets/booknames_nospace.csv')\n",
    "booknames_nospace = booknames_nospace['Kitab'].tolist()\n",
    "events = read_events(file_name)\n",
    "df = parse_messages(df, events, booknames_nospace)"
   ]
  },
  {
   "cell_type": "code",
   "execution_count": 19,
   "metadata": {},
   "outputs": [],
   "source": [
    "df['Parsed'].to_csv(\"phase/preprocessing6.csv\", index=False)"
   ]
  },
  {
   "cell_type": "code",
   "execution_count": 20,
   "metadata": {},
   "outputs": [
    {
     "name": "stdout",
     "output_type": "stream",
     "text": [
      "titus 1, titus 2, titus 3, filemon 1, ibrani 1, ibrani 2, ibrani 3, ibrani 4, ibrani 5, ibrani 6, ibrani 7, ibrani 8, ibrani 9, ibrani 10, ibrani 11, ibrani 12, ibrani 13, yakobus 1, yakobus 2, yakobus 3, yakobus 4, yakobus 5\n"
     ]
    }
   ],
   "source": [
    "text = 'titus-filemon-ibrani-yakobus'\n",
    "parsed_line = ''\n",
    "parsed_books = text.split('-')\n",
    "for book in parsed_books:\n",
    "    for chapter in events:\n",
    "        if book in chapter:\n",
    "            parsed_line += f\"{chapter}, \"\n",
    "parsed_line = parsed_line[:-2] \n",
    "print(parsed_line)"
   ]
  },
  {
   "cell_type": "code",
   "execution_count": 21,
   "metadata": {},
   "outputs": [],
   "source": [
    "df['Parsed 2'] = df['Parsed']\n",
    "for i, line in enumerate(df['Parsed 2']):\n",
    "    new_value = df['Parsed 2'][i:i+1].str.replace('hakimhakim', 'hakim-hakim').str.replace('1samuel', '1 samuel').str.replace('2samuel', '2 samuel').str.replace('1rajaraja', '1 raja-raja').str.replace('2rajaraja', '2 raja-raja').str.replace('1tawarikh', '1 tawarikh').str.replace('2tawarikh', '2 tawarikh').str.replace('kidungagung', 'kidung agung').str.replace('kisahpararasul', 'kisah para rasul').str.replace('1korintus', '1 korintus').str.replace('2korintus', '2 korintus').str.replace('1tesalonika', '1 tesalonika').str.replace('2tesalonika', '2 tesalonika').str.replace('1timotius', '1 timotius').str.replace('2timotius', '2 timotius').str.replace('1petrus', '1 petrus').str.replace('2petrus', '2 petrus').str.replace('3petrus', '3 petrus').str.replace('1yohanes', '1 yohanes').str.replace('2yohanes', '2 yohanes').str.replace('3yohanes', '3 yohanes')\n",
    "    df['Parsed 2'][i:i+1] = new_value\n",
    "    \n",
    "df['Parsed 2'].to_csv('phase/preprocessingfinal.csv', index=False)"
   ]
  },
  {
   "cell_type": "markdown",
   "metadata": {},
   "source": [
    "Accuracy"
   ]
  },
  {
   "cell_type": "code",
   "execution_count": 22,
   "metadata": {},
   "outputs": [],
   "source": [
    "python_parsed = pd.read_csv('phase/preprocessingfinal.csv')\n",
    "manual_parsed = pd.read_csv('assets/classifiedchat_context.csv')\n",
    "manual_parsed = manual_parsed[manual_parsed['Category'] == 'report']"
   ]
  },
  {
   "cell_type": "code",
   "execution_count": 23,
   "metadata": {},
   "outputs": [
    {
     "data": {
      "text/html": [
       "<div>\n",
       "<style scoped>\n",
       "    .dataframe tbody tr th:only-of-type {\n",
       "        vertical-align: middle;\n",
       "    }\n",
       "\n",
       "    .dataframe tbody tr th {\n",
       "        vertical-align: top;\n",
       "    }\n",
       "\n",
       "    .dataframe thead th {\n",
       "        text-align: right;\n",
       "    }\n",
       "</style>\n",
       "<table border=\"1\" class=\"dataframe\">\n",
       "  <thead>\n",
       "    <tr style=\"text-align: right;\">\n",
       "      <th></th>\n",
       "      <th>python_parsed</th>\n",
       "      <th>manual_parsed</th>\n",
       "    </tr>\n",
       "  </thead>\n",
       "  <tbody>\n",
       "    <tr>\n",
       "      <th>0</th>\n",
       "      <td>kejadian 1, kejadian 2</td>\n",
       "      <td>kejadian 1, kejadian 2</td>\n",
       "    </tr>\n",
       "    <tr>\n",
       "      <th>1</th>\n",
       "      <td>kejadian 1, kejadian 2</td>\n",
       "      <td>kejadian 1, kejadian 2</td>\n",
       "    </tr>\n",
       "    <tr>\n",
       "      <th>2</th>\n",
       "      <td>kejadian 1, kejadian 2</td>\n",
       "      <td>kejadian 1, kejadian 2</td>\n",
       "    </tr>\n",
       "    <tr>\n",
       "      <th>3</th>\n",
       "      <td>kejadian 1, kejadian 2</td>\n",
       "      <td>kejadian 1, kejadian 2</td>\n",
       "    </tr>\n",
       "    <tr>\n",
       "      <th>4</th>\n",
       "      <td>kejadian 1, kejadian 2</td>\n",
       "      <td>kejadian 1, kejadian 2</td>\n",
       "    </tr>\n",
       "  </tbody>\n",
       "</table>\n",
       "</div>"
      ],
      "text/plain": [
       "            python_parsed           manual_parsed\n",
       "0  kejadian 1, kejadian 2  kejadian 1, kejadian 2\n",
       "1  kejadian 1, kejadian 2  kejadian 1, kejadian 2\n",
       "2  kejadian 1, kejadian 2  kejadian 1, kejadian 2\n",
       "3  kejadian 1, kejadian 2  kejadian 1, kejadian 2\n",
       "4  kejadian 1, kejadian 2  kejadian 1, kejadian 2"
      ]
     },
     "execution_count": 23,
     "metadata": {},
     "output_type": "execute_result"
    }
   ],
   "source": [
    "compared_df = pd.DataFrame()\n",
    "compared_df['python_parsed'] = python_parsed\n",
    "compared_df['manual_parsed'] = manual_parsed['Parse Text'].to_list()\n",
    "compared_df.head()\n"
   ]
  },
  {
   "cell_type": "code",
   "execution_count": 27,
   "metadata": {},
   "outputs": [],
   "source": [
    "compared_df = pd.DataFrame()\n",
    "compared_df['python_parsed'] = python_parsed\n",
    "compared_df['manual_parsed'] = manual_parsed['Parse Text'].to_list()\n",
    "\n",
    "unmatched_df = compared_df[compared_df['python_parsed'] != compared_df['manual_parsed']]\n",
    "csv_string = unmatched_df.to_csv('compared.csv', index=False)\n"
   ]
  },
  {
   "cell_type": "code",
   "execution_count": 24,
   "metadata": {},
   "outputs": [
    {
     "name": "stdout",
     "output_type": "stream",
     "text": [
      "Accuracy: 91.33752518161285\n"
     ]
    }
   ],
   "source": [
    "result = 0\n",
    "for i in range(len(python_parsed)):\n",
    "    if compared_df['python_parsed'][i] == compared_df['manual_parsed'][i]:\n",
    "        result += 1\n",
    "\n",
    "print(f'Accuracy: {result/16381*100}')"
   ]
  }
 ],
 "metadata": {
  "kernelspec": {
   "display_name": "capstone",
   "language": "python",
   "name": "python3"
  },
  "language_info": {
   "codemirror_mode": {
    "name": "ipython",
    "version": 3
   },
   "file_extension": ".py",
   "mimetype": "text/x-python",
   "name": "python",
   "nbconvert_exporter": "python",
   "pygments_lexer": "ipython3",
   "version": "3.9.18"
  }
 },
 "nbformat": 4,
 "nbformat_minor": 2
}

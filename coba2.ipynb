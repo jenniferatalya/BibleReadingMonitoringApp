{
 "cells": [
  {
   "cell_type": "code",
   "execution_count": 33,
   "metadata": {},
   "outputs": [],
   "source": [
    "import pandas as pd"
   ]
  },
  {
   "cell_type": "code",
   "execution_count": 34,
   "metadata": {},
   "outputs": [],
   "source": [
    "python_parsed = pd.read_csv('Parsed2.csv')\n",
    "manual_parsed = pd.read_csv('assets/classifiedchat_context.csv')\n",
    "manual_parsed = manual_parsed[manual_parsed['Category'] == 'report']"
   ]
  },
  {
   "cell_type": "code",
   "execution_count": 35,
   "metadata": {},
   "outputs": [
    {
     "data": {
      "text/html": [
       "<div>\n",
       "<style scoped>\n",
       "    .dataframe tbody tr th:only-of-type {\n",
       "        vertical-align: middle;\n",
       "    }\n",
       "\n",
       "    .dataframe tbody tr th {\n",
       "        vertical-align: top;\n",
       "    }\n",
       "\n",
       "    .dataframe thead th {\n",
       "        text-align: right;\n",
       "    }\n",
       "</style>\n",
       "<table border=\"1\" class=\"dataframe\">\n",
       "  <thead>\n",
       "    <tr style=\"text-align: right;\">\n",
       "      <th></th>\n",
       "      <th>python_parsed</th>\n",
       "      <th>manual_parsed</th>\n",
       "    </tr>\n",
       "  </thead>\n",
       "  <tbody>\n",
       "    <tr>\n",
       "      <th>0</th>\n",
       "      <td>kejadian 1, kejadian 2</td>\n",
       "      <td>kejadian 1, kejadian 2</td>\n",
       "    </tr>\n",
       "    <tr>\n",
       "      <th>1</th>\n",
       "      <td>kejadian 1, kejadian 2</td>\n",
       "      <td>kejadian 1, kejadian 2</td>\n",
       "    </tr>\n",
       "    <tr>\n",
       "      <th>2</th>\n",
       "      <td>kejadian 1, kejadian 2</td>\n",
       "      <td>kejadian 1, kejadian 2</td>\n",
       "    </tr>\n",
       "    <tr>\n",
       "      <th>3</th>\n",
       "      <td>kejadian 1, kejadian 2</td>\n",
       "      <td>kejadian 1, kejadian 2</td>\n",
       "    </tr>\n",
       "    <tr>\n",
       "      <th>4</th>\n",
       "      <td>kejadian 1, kejadian 2</td>\n",
       "      <td>kejadian 1, kejadian 2</td>\n",
       "    </tr>\n",
       "    <tr>\n",
       "      <th>...</th>\n",
       "      <td>...</td>\n",
       "      <td>...</td>\n",
       "    </tr>\n",
       "    <tr>\n",
       "      <th>16376</th>\n",
       "      <td>wahyu 19, wahyu 20, wahyu 21, wahyu 22</td>\n",
       "      <td>wahyu 19, wahyu 20, wahyu 21, wahyu 22</td>\n",
       "    </tr>\n",
       "    <tr>\n",
       "      <th>16377</th>\n",
       "      <td>kejadian 1, kejadian 2</td>\n",
       "      <td>kejadian 1, kejadian 2</td>\n",
       "    </tr>\n",
       "    <tr>\n",
       "      <th>16378</th>\n",
       "      <td>kejadian 1, kejadian 2, kejadian 3, kejadian 4...</td>\n",
       "      <td>kejadian 1, kejadian 2, kejadian 3, kejadian 4...</td>\n",
       "    </tr>\n",
       "    <tr>\n",
       "      <th>16379</th>\n",
       "      <td>wahyu 1, wahyu 2, wahyu 3, wahyu 4, wahyu 5, w...</td>\n",
       "      <td>wahyu 1, wahyu 2, wahyu 3, wahyu 4, wahyu 5, w...</td>\n",
       "    </tr>\n",
       "    <tr>\n",
       "      <th>16380</th>\n",
       "      <td>wahyu 19, wahyu 20</td>\n",
       "      <td>wahyu 19, wahyu 20</td>\n",
       "    </tr>\n",
       "  </tbody>\n",
       "</table>\n",
       "<p>16381 rows × 2 columns</p>\n",
       "</div>"
      ],
      "text/plain": [
       "                                           python_parsed  \\\n",
       "0                                 kejadian 1, kejadian 2   \n",
       "1                                 kejadian 1, kejadian 2   \n",
       "2                                 kejadian 1, kejadian 2   \n",
       "3                                 kejadian 1, kejadian 2   \n",
       "4                                 kejadian 1, kejadian 2   \n",
       "...                                                  ...   \n",
       "16376             wahyu 19, wahyu 20, wahyu 21, wahyu 22   \n",
       "16377                             kejadian 1, kejadian 2   \n",
       "16378  kejadian 1, kejadian 2, kejadian 3, kejadian 4...   \n",
       "16379  wahyu 1, wahyu 2, wahyu 3, wahyu 4, wahyu 5, w...   \n",
       "16380                                 wahyu 19, wahyu 20   \n",
       "\n",
       "                                           manual_parsed  \n",
       "0                                 kejadian 1, kejadian 2  \n",
       "1                                 kejadian 1, kejadian 2  \n",
       "2                                 kejadian 1, kejadian 2  \n",
       "3                                 kejadian 1, kejadian 2  \n",
       "4                                 kejadian 1, kejadian 2  \n",
       "...                                                  ...  \n",
       "16376             wahyu 19, wahyu 20, wahyu 21, wahyu 22  \n",
       "16377                             kejadian 1, kejadian 2  \n",
       "16378  kejadian 1, kejadian 2, kejadian 3, kejadian 4...  \n",
       "16379  wahyu 1, wahyu 2, wahyu 3, wahyu 4, wahyu 5, w...  \n",
       "16380                                 wahyu 19, wahyu 20  \n",
       "\n",
       "[16381 rows x 2 columns]"
      ]
     },
     "execution_count": 35,
     "metadata": {},
     "output_type": "execute_result"
    }
   ],
   "source": [
    "compare_df = pd.DataFrame()\n",
    "compare_df['python_parsed'] = python_parsed\n",
    "compare_df['manual_parsed'] = manual_parsed['Parse Text'].tolist()\n",
    "compare_df"
   ]
  },
  {
   "cell_type": "code",
   "execution_count": 37,
   "metadata": {},
   "outputs": [
    {
     "name": "stdout",
     "output_type": "stream",
     "text": [
      "accuracy: 92.3936267627129\n"
     ]
    }
   ],
   "source": [
    "result = 0\n",
    "for i in range(len(python_parsed)):\n",
    "    if compare_df['python_parsed'][i] == compare_df['manual_parsed'][i]:\n",
    "        result += 1\n",
    "\n",
    "print(f'accuracy: {result/16381*100}')"
   ]
  }
 ],
 "metadata": {
  "kernelspec": {
   "display_name": "capstone",
   "language": "python",
   "name": "python3"
  },
  "language_info": {
   "codemirror_mode": {
    "name": "ipython",
    "version": 3
   },
   "file_extension": ".py",
   "mimetype": "text/x-python",
   "name": "python",
   "nbconvert_exporter": "python",
   "pygments_lexer": "ipython3",
   "version": "3.9.18"
  }
 },
 "nbformat": 4,
 "nbformat_minor": 2
}
